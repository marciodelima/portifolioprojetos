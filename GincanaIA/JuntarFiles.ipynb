{
 "cells": [
  {
   "cell_type": "code",
   "execution_count": 6,
   "metadata": {},
   "outputs": [],
   "source": [
    "import os\n",
    "import pandas as pd\n",
    "import warnings\n",
    "\n",
    "%matplotlib inline\n",
    "warnings.filterwarnings(\"ignore\")"
   ]
  },
  {
   "cell_type": "code",
   "execution_count": 7,
   "metadata": {},
   "outputs": [],
   "source": [
    "dataframes = [] \n",
    "\n",
    "csv_folder_path = os.path.join(\"D\",\"\\GincanaIA\",\"data\",\"input\")\n",
    "csv_files = [ x for x in os.listdir(csv_folder_path) if x.endswith(\"csv\") ]\n",
    "\n",
    "for csv_file in csv_files:\n",
    "    csvfile_csv = os.path.join(csv_folder_path, csv_file)\n",
    "\n",
    "    df = pd.read_csv(csvfile_csv)\n",
    "    dataframes.append(df)\n"
   ]
  },
  {
   "cell_type": "code",
   "execution_count": 8,
   "metadata": {},
   "outputs": [],
   "source": [
    "# concatenate them all together\n",
    "result = pd.concat(dataframes, ignore_index=True)\n"
   ]
  },
  {
   "cell_type": "code",
   "execution_count": 9,
   "metadata": {},
   "outputs": [
    {
     "name": "stdout",
     "output_type": "stream",
     "text": [
      "<class 'pandas.core.frame.DataFrame'>\n",
      "RangeIndex: 22006 entries, 0 to 22005\n",
      "Data columns (total 17 columns):\n",
      "IDHM_R                           22006 non-null float64\n",
      "anosFidelidadeCliente            22006 non-null float64\n",
      "codigoClasseBonus                22006 non-null float64\n",
      "codigoClasseLocalizacao          22006 non-null float64\n",
      "codigoFamiliaVeiculo             22006 non-null float64\n",
      "codigoMarcaVeiculo               22006 non-null float64\n",
      "codigoSucursal                   22006 non-null float64\n",
      "codigoTipoVeiculo                22006 non-null float64\n",
      "diaSemana                        22006 non-null float64\n",
      "diferencaPremioAntNovo           22006 non-null float64\n",
      "premioLiquidoPagoApolice         22006 non-null float64\n",
      "valorDiferencaPremioAnual        22006 non-null float64\n",
      "valorFranquia                    22006 non-null float64\n",
      "valorImportanciaSeguradaCasco    22006 non-null float64\n",
      "valorPremioFinal                 22006 non-null float64\n",
      "valorPremioPagoAtual             22006 non-null float64\n",
      "gerouSinistro                    22006 non-null float64\n",
      "dtypes: float64(17)\n",
      "memory usage: 2.9 MB\n"
     ]
    }
   ],
   "source": [
    "result.info()"
   ]
  },
  {
   "cell_type": "code",
   "execution_count": 10,
   "metadata": {},
   "outputs": [],
   "source": [
    "# print out to a new csv file\n",
    "result.to_csv('data/gincanaV2_SinistroFinal.csv', header=True, index=False)"
   ]
  },
  {
   "cell_type": "code",
   "execution_count": null,
   "metadata": {},
   "outputs": [],
   "source": []
  }
 ],
 "metadata": {
  "kernelspec": {
   "display_name": "Python 3",
   "language": "python",
   "name": "python3"
  },
  "language_info": {
   "codemirror_mode": {
    "name": "ipython",
    "version": 3
   },
   "file_extension": ".py",
   "mimetype": "text/x-python",
   "name": "python",
   "nbconvert_exporter": "python",
   "pygments_lexer": "ipython3",
   "version": "3.7.3"
  }
 },
 "nbformat": 4,
 "nbformat_minor": 2
}
