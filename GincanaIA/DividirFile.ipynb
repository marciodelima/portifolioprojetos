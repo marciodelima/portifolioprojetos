{
 "cells": [
  {
   "cell_type": "code",
   "execution_count": 1,
   "metadata": {},
   "outputs": [],
   "source": [
    "import json\n",
    "import string\n",
    "import pandas as pd\n",
    "import matplotlib.pyplot as plt\n",
    "import seaborn as sns\n",
    "import warnings\n",
    "\n",
    "%matplotlib inline\n",
    "warnings.filterwarnings(\"ignore\")"
   ]
  },
  {
   "cell_type": "code",
   "execution_count": 2,
   "metadata": {},
   "outputs": [
    {
     "name": "stdout",
     "output_type": "stream",
     "text": [
      "Collecting filesplit\n",
      "  Downloading https://files.pythonhosted.org/packages/2e/18/d39475047fe432a4404f7a3a726183d4d70cee55c78ca6dfccc25304b2ae/filesplit-2.0.0.tar.gz\n",
      "Building wheels for collected packages: filesplit\n",
      "  Building wheel for filesplit (setup.py): started\n",
      "  Building wheel for filesplit (setup.py): finished with status 'done'\n",
      "  Stored in directory: C:\\Users\\F0108183\\AppData\\Local\\pip\\Cache\\wheels\\a4\\59\\68\\074ada681084d79fb1a71b3d9e4f1bf5b3cf0b1b523784c470\n",
      "Successfully built filesplit\n",
      "Installing collected packages: filesplit\n",
      "Successfully installed filesplit-2.0.0\n"
     ]
    }
   ],
   "source": [
    "#!pip install filesplit"
   ]
  },
  {
   "cell_type": "code",
   "execution_count": 7,
   "metadata": {},
   "outputs": [],
   "source": [
    "from fsplit.filesplit import FileSplit\n",
    "\n",
    "fs = FileSplit(file='data/apolices.json', splitsize=50000000, output_dir='data/output/')"
   ]
  },
  {
   "cell_type": "code",
   "execution_count": 8,
   "metadata": {},
   "outputs": [
    {
     "name": "stdout",
     "output_type": "stream",
     "text": [
      "file: data/output/apolices_1.json, size: 50001172, count: 580\n",
      "file: data/output/apolices_2.json, size: 50047182, count: 578\n",
      "file: data/output/apolices_3.json, size: 50016495, count: 568\n",
      "file: data/output/apolices_4.json, size: 50065983, count: 574\n",
      "file: data/output/apolices_5.json, size: 50077049, count: 567\n",
      "file: data/output/apolices_6.json, size: 50087112, count: 567\n",
      "file: data/output/apolices_7.json, size: 50051549, count: 572\n",
      "file: data/output/apolices_8.json, size: 50080210, count: 571\n",
      "file: data/output/apolices_9.json, size: 50080770, count: 549\n",
      "file: data/output/apolices_10.json, size: 50075578, count: 556\n",
      "file: data/output/apolices_11.json, size: 50049764, count: 555\n",
      "file: data/output/apolices_12.json, size: 50035543, count: 1024\n",
      "file: data/output/apolices_13.json, size: 50088932, count: 578\n",
      "file: data/output/apolices_14.json, size: 50061734, count: 578\n",
      "file: data/output/apolices_15.json, size: 50057365, count: 564\n",
      "file: data/output/apolices_16.json, size: 50058718, count: 576\n",
      "file: data/output/apolices_17.json, size: 28311168, count: 1856\n"
     ]
    }
   ],
   "source": [
    "def func(f, s, c):\n",
    "    print(\"file: {0}, size: {1}, count: {2}\".format(f, s, c))\n",
    "\n",
    "fs.split(callback=func)"
   ]
  },
  {
   "cell_type": "code",
   "execution_count": null,
   "metadata": {},
   "outputs": [],
   "source": []
  },
  {
   "cell_type": "code",
   "execution_count": null,
   "metadata": {},
   "outputs": [],
   "source": []
  }
 ],
 "metadata": {
  "kernelspec": {
   "display_name": "Python 3",
   "language": "python",
   "name": "python3"
  },
  "language_info": {
   "codemirror_mode": {
    "name": "ipython",
    "version": 3
   },
   "file_extension": ".py",
   "mimetype": "text/x-python",
   "name": "python",
   "nbconvert_exporter": "python",
   "pygments_lexer": "ipython3",
   "version": "3.7.3"
  }
 },
 "nbformat": 4,
 "nbformat_minor": 2
}
