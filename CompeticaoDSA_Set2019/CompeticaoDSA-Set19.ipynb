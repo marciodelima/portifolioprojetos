{
 "cells": [
  {
   "cell_type": "markdown",
   "metadata": {},
   "source": [
    "# Competição DSA de Machine Learning - Edição Setembro/2019"
   ]
  },
  {
   "cell_type": "markdown",
   "metadata": {},
   "source": [
    "## MARCIO DE LIMA"
   ]
  },
  {
   "cell_type": "markdown",
   "metadata": {},
   "source": [
    "# Problema\n",
    "Cada vez mais os robôs estão presentes em nosso dia a dia. Mas para que os robôs possam entender e navegar adequadamente por um local, eles precisam de informações sobre seu ambiente.\n",
    "\n",
    "Nesta competição, você ajudará robôs (especificamente veículos autônomos terrestres) a reconhecer a superfície do piso em que estão, usando os dados coletados por sensores IMU (Inertial Measurement Units).\n",
    "\n",
    "Os dados usados nesta competição foram coletados pelo Departamento de Processamento de Sinais da Tampere University na Finlândia. A coleta dos dados foi feita com um pequeno robô móvel equipado com sensores IMU sobre diferentes superfícies do piso nas instalações da universidade. A tarefa é prever em qual dos nove tipos de piso (carpete, ladrilhos, concreto, etc…) o robô está usando dados do sensor, como aceleração e velocidade. Tenha sucesso nesta competição e você ajudará a melhorar a navegação dos robôs autônomos em muitas superfícies diferentes.\n"
   ]
  },
  {
   "cell_type": "markdown",
   "metadata": {},
   "source": [
    "** SE ESSE CODIGO FOR UTIL, VOTE , POR FAVOR **"
   ]
  },
  {
   "cell_type": "markdown",
   "metadata": {},
   "source": [
    "# Carregando os dados"
   ]
  },
  {
   "cell_type": "code",
   "execution_count": 1,
   "metadata": {},
   "outputs": [],
   "source": [
    "# Importando as bibliotecas\n",
    "import os\n",
    "path = os.getcwd()\n",
    "\n",
    "import pandas as pd\n",
    "import numpy as np\n",
    "import matplotlib.pyplot as plt\n",
    "from IPython.core.pylabtools import figsize\n",
    "from sklearn.preprocessing import LabelEncoder, OneHotEncoder, MinMaxScaler, StandardScaler\n",
    "from sklearn.compose import ColumnTransformer\n",
    "from sklearn.model_selection import train_test_split\n",
    "from sklearn.metrics import accuracy_score\n",
    "from xgboost import XGBClassifier as xgb\n",
    "\n",
    "import gc\n",
    "import seaborn as sns\n",
    "import warnings\n",
    "\n",
    "%matplotlib inline\n",
    "warnings.filterwarnings(\"ignore\")"
   ]
  },
  {
   "cell_type": "code",
   "execution_count": 2,
   "metadata": {},
   "outputs": [],
   "source": [
    "# Importando os datasets\n",
    "df_treino = pd.read_csv('data/X_treino.csv', low_memory=False)\n",
    "df_treino_y = pd.read_csv('data/y_treino.csv', low_memory=False)\n"
   ]
  },
  {
   "cell_type": "code",
   "execution_count": 3,
   "metadata": {},
   "outputs": [
    {
     "data": {
      "text/plain": [
       "(487680, 15)"
      ]
     },
     "execution_count": 3,
     "metadata": {},
     "output_type": "execute_result"
    }
   ],
   "source": [
    "# Efetuando Merge dos dataSets de Treino - Chave: series_id\n",
    "\n",
    "df = pd.merge(df_treino, df_treino_y, on='series_id', how='left')\n",
    "df.shape"
   ]
  },
  {
   "cell_type": "code",
   "execution_count": 4,
   "metadata": {},
   "outputs": [
    {
     "data": {
      "text/html": [
       "<div>\n",
       "<style scoped>\n",
       "    .dataframe tbody tr th:only-of-type {\n",
       "        vertical-align: middle;\n",
       "    }\n",
       "\n",
       "    .dataframe tbody tr th {\n",
       "        vertical-align: top;\n",
       "    }\n",
       "\n",
       "    .dataframe thead th {\n",
       "        text-align: right;\n",
       "    }\n",
       "</style>\n",
       "<table border=\"1\" class=\"dataframe\">\n",
       "  <thead>\n",
       "    <tr style=\"text-align: right;\">\n",
       "      <th></th>\n",
       "      <th>row_id</th>\n",
       "      <th>series_id</th>\n",
       "      <th>measurement_number</th>\n",
       "      <th>orientation_X</th>\n",
       "      <th>orientation_Y</th>\n",
       "      <th>orientation_Z</th>\n",
       "      <th>orientation_W</th>\n",
       "      <th>angular_velocity_X</th>\n",
       "      <th>angular_velocity_Y</th>\n",
       "      <th>angular_velocity_Z</th>\n",
       "      <th>linear_acceleration_X</th>\n",
       "      <th>linear_acceleration_Y</th>\n",
       "      <th>linear_acceleration_Z</th>\n",
       "      <th>group_id</th>\n",
       "      <th>surface</th>\n",
       "    </tr>\n",
       "  </thead>\n",
       "  <tbody>\n",
       "    <tr>\n",
       "      <th>0</th>\n",
       "      <td>0_0</td>\n",
       "      <td>0</td>\n",
       "      <td>0</td>\n",
       "      <td>-0.75853</td>\n",
       "      <td>-0.63435</td>\n",
       "      <td>-0.10488</td>\n",
       "      <td>-0.10597</td>\n",
       "      <td>0.107650</td>\n",
       "      <td>0.017561</td>\n",
       "      <td>0.000767</td>\n",
       "      <td>-0.748570</td>\n",
       "      <td>2.103000</td>\n",
       "      <td>-9.7532</td>\n",
       "      <td>13</td>\n",
       "      <td>fine_concrete</td>\n",
       "    </tr>\n",
       "    <tr>\n",
       "      <th>1</th>\n",
       "      <td>0_1</td>\n",
       "      <td>0</td>\n",
       "      <td>1</td>\n",
       "      <td>-0.75853</td>\n",
       "      <td>-0.63434</td>\n",
       "      <td>-0.10490</td>\n",
       "      <td>-0.10600</td>\n",
       "      <td>0.067851</td>\n",
       "      <td>0.029939</td>\n",
       "      <td>0.003385</td>\n",
       "      <td>0.339950</td>\n",
       "      <td>1.506400</td>\n",
       "      <td>-9.4128</td>\n",
       "      <td>13</td>\n",
       "      <td>fine_concrete</td>\n",
       "    </tr>\n",
       "    <tr>\n",
       "      <th>2</th>\n",
       "      <td>0_2</td>\n",
       "      <td>0</td>\n",
       "      <td>2</td>\n",
       "      <td>-0.75853</td>\n",
       "      <td>-0.63435</td>\n",
       "      <td>-0.10492</td>\n",
       "      <td>-0.10597</td>\n",
       "      <td>0.007275</td>\n",
       "      <td>0.028934</td>\n",
       "      <td>-0.005978</td>\n",
       "      <td>-0.264290</td>\n",
       "      <td>1.592200</td>\n",
       "      <td>-8.7267</td>\n",
       "      <td>13</td>\n",
       "      <td>fine_concrete</td>\n",
       "    </tr>\n",
       "    <tr>\n",
       "      <th>3</th>\n",
       "      <td>0_3</td>\n",
       "      <td>0</td>\n",
       "      <td>3</td>\n",
       "      <td>-0.75852</td>\n",
       "      <td>-0.63436</td>\n",
       "      <td>-0.10495</td>\n",
       "      <td>-0.10597</td>\n",
       "      <td>-0.013053</td>\n",
       "      <td>0.019448</td>\n",
       "      <td>-0.008974</td>\n",
       "      <td>0.426840</td>\n",
       "      <td>1.099300</td>\n",
       "      <td>-10.0960</td>\n",
       "      <td>13</td>\n",
       "      <td>fine_concrete</td>\n",
       "    </tr>\n",
       "    <tr>\n",
       "      <th>4</th>\n",
       "      <td>0_4</td>\n",
       "      <td>0</td>\n",
       "      <td>4</td>\n",
       "      <td>-0.75852</td>\n",
       "      <td>-0.63435</td>\n",
       "      <td>-0.10495</td>\n",
       "      <td>-0.10596</td>\n",
       "      <td>0.005135</td>\n",
       "      <td>0.007652</td>\n",
       "      <td>0.005245</td>\n",
       "      <td>-0.509690</td>\n",
       "      <td>1.468900</td>\n",
       "      <td>-10.4410</td>\n",
       "      <td>13</td>\n",
       "      <td>fine_concrete</td>\n",
       "    </tr>\n",
       "    <tr>\n",
       "      <th>5</th>\n",
       "      <td>0_5</td>\n",
       "      <td>0</td>\n",
       "      <td>5</td>\n",
       "      <td>-0.75853</td>\n",
       "      <td>-0.63439</td>\n",
       "      <td>-0.10483</td>\n",
       "      <td>-0.10580</td>\n",
       "      <td>0.059664</td>\n",
       "      <td>0.013043</td>\n",
       "      <td>-0.013231</td>\n",
       "      <td>-0.447450</td>\n",
       "      <td>0.992810</td>\n",
       "      <td>-10.4020</td>\n",
       "      <td>13</td>\n",
       "      <td>fine_concrete</td>\n",
       "    </tr>\n",
       "    <tr>\n",
       "      <th>6</th>\n",
       "      <td>0_6</td>\n",
       "      <td>0</td>\n",
       "      <td>6</td>\n",
       "      <td>-0.75853</td>\n",
       "      <td>-0.63441</td>\n",
       "      <td>-0.10481</td>\n",
       "      <td>-0.10569</td>\n",
       "      <td>0.082140</td>\n",
       "      <td>0.044356</td>\n",
       "      <td>-0.002696</td>\n",
       "      <td>-0.141630</td>\n",
       "      <td>0.734970</td>\n",
       "      <td>-9.4296</td>\n",
       "      <td>13</td>\n",
       "      <td>fine_concrete</td>\n",
       "    </tr>\n",
       "    <tr>\n",
       "      <th>7</th>\n",
       "      <td>0_7</td>\n",
       "      <td>0</td>\n",
       "      <td>7</td>\n",
       "      <td>-0.75852</td>\n",
       "      <td>-0.63444</td>\n",
       "      <td>-0.10480</td>\n",
       "      <td>-0.10561</td>\n",
       "      <td>0.056218</td>\n",
       "      <td>0.038162</td>\n",
       "      <td>-0.022931</td>\n",
       "      <td>-0.121600</td>\n",
       "      <td>0.075417</td>\n",
       "      <td>-8.6088</td>\n",
       "      <td>13</td>\n",
       "      <td>fine_concrete</td>\n",
       "    </tr>\n",
       "    <tr>\n",
       "      <th>8</th>\n",
       "      <td>0_8</td>\n",
       "      <td>0</td>\n",
       "      <td>8</td>\n",
       "      <td>-0.75851</td>\n",
       "      <td>-0.63445</td>\n",
       "      <td>-0.10485</td>\n",
       "      <td>-0.10559</td>\n",
       "      <td>-0.012846</td>\n",
       "      <td>0.039004</td>\n",
       "      <td>-0.007831</td>\n",
       "      <td>1.600000</td>\n",
       "      <td>0.816110</td>\n",
       "      <td>-7.6426</td>\n",
       "      <td>13</td>\n",
       "      <td>fine_concrete</td>\n",
       "    </tr>\n",
       "    <tr>\n",
       "      <th>9</th>\n",
       "      <td>0_9</td>\n",
       "      <td>0</td>\n",
       "      <td>9</td>\n",
       "      <td>-0.75851</td>\n",
       "      <td>-0.63443</td>\n",
       "      <td>-0.10489</td>\n",
       "      <td>-0.10567</td>\n",
       "      <td>-0.090082</td>\n",
       "      <td>0.027299</td>\n",
       "      <td>-0.009970</td>\n",
       "      <td>0.474960</td>\n",
       "      <td>0.909600</td>\n",
       "      <td>-8.8120</td>\n",
       "      <td>13</td>\n",
       "      <td>fine_concrete</td>\n",
       "    </tr>\n",
       "    <tr>\n",
       "      <th>10</th>\n",
       "      <td>0_10</td>\n",
       "      <td>0</td>\n",
       "      <td>10</td>\n",
       "      <td>-0.75848</td>\n",
       "      <td>-0.63443</td>\n",
       "      <td>-0.10497</td>\n",
       "      <td>-0.10575</td>\n",
       "      <td>-0.088418</td>\n",
       "      <td>0.011778</td>\n",
       "      <td>-0.016589</td>\n",
       "      <td>1.594300</td>\n",
       "      <td>0.372050</td>\n",
       "      <td>-11.2160</td>\n",
       "      <td>13</td>\n",
       "      <td>fine_concrete</td>\n",
       "    </tr>\n",
       "    <tr>\n",
       "      <th>11</th>\n",
       "      <td>0_11</td>\n",
       "      <td>0</td>\n",
       "      <td>11</td>\n",
       "      <td>-0.75847</td>\n",
       "      <td>-0.63444</td>\n",
       "      <td>-0.10499</td>\n",
       "      <td>-0.10573</td>\n",
       "      <td>0.000671</td>\n",
       "      <td>0.022855</td>\n",
       "      <td>-0.005791</td>\n",
       "      <td>0.936820</td>\n",
       "      <td>0.126510</td>\n",
       "      <td>-11.2730</td>\n",
       "      <td>13</td>\n",
       "      <td>fine_concrete</td>\n",
       "    </tr>\n",
       "    <tr>\n",
       "      <th>12</th>\n",
       "      <td>0_12</td>\n",
       "      <td>0</td>\n",
       "      <td>12</td>\n",
       "      <td>-0.75846</td>\n",
       "      <td>-0.63448</td>\n",
       "      <td>-0.10495</td>\n",
       "      <td>-0.10570</td>\n",
       "      <td>0.040139</td>\n",
       "      <td>-0.003868</td>\n",
       "      <td>-0.030181</td>\n",
       "      <td>0.672260</td>\n",
       "      <td>0.851970</td>\n",
       "      <td>-9.3933</td>\n",
       "      <td>13</td>\n",
       "      <td>fine_concrete</td>\n",
       "    </tr>\n",
       "    <tr>\n",
       "      <th>13</th>\n",
       "      <td>0_13</td>\n",
       "      <td>0</td>\n",
       "      <td>13</td>\n",
       "      <td>-0.75846</td>\n",
       "      <td>-0.63445</td>\n",
       "      <td>-0.10504</td>\n",
       "      <td>-0.10573</td>\n",
       "      <td>-0.014728</td>\n",
       "      <td>0.001884</td>\n",
       "      <td>-0.010793</td>\n",
       "      <td>1.497800</td>\n",
       "      <td>1.620500</td>\n",
       "      <td>-7.8959</td>\n",
       "      <td>13</td>\n",
       "      <td>fine_concrete</td>\n",
       "    </tr>\n",
       "    <tr>\n",
       "      <th>14</th>\n",
       "      <td>0_14</td>\n",
       "      <td>0</td>\n",
       "      <td>14</td>\n",
       "      <td>-0.75842</td>\n",
       "      <td>-0.63447</td>\n",
       "      <td>-0.10512</td>\n",
       "      <td>-0.10582</td>\n",
       "      <td>-0.097677</td>\n",
       "      <td>0.008167</td>\n",
       "      <td>-0.026073</td>\n",
       "      <td>0.091442</td>\n",
       "      <td>1.244900</td>\n",
       "      <td>-8.1673</td>\n",
       "      <td>13</td>\n",
       "      <td>fine_concrete</td>\n",
       "    </tr>\n",
       "    <tr>\n",
       "      <th>15</th>\n",
       "      <td>0_15</td>\n",
       "      <td>0</td>\n",
       "      <td>15</td>\n",
       "      <td>-0.75838</td>\n",
       "      <td>-0.63447</td>\n",
       "      <td>-0.10525</td>\n",
       "      <td>-0.10597</td>\n",
       "      <td>-0.156020</td>\n",
       "      <td>0.012320</td>\n",
       "      <td>-0.026409</td>\n",
       "      <td>1.656300</td>\n",
       "      <td>2.153600</td>\n",
       "      <td>-9.7079</td>\n",
       "      <td>13</td>\n",
       "      <td>fine_concrete</td>\n",
       "    </tr>\n",
       "    <tr>\n",
       "      <th>16</th>\n",
       "      <td>0_16</td>\n",
       "      <td>0</td>\n",
       "      <td>16</td>\n",
       "      <td>-0.75835</td>\n",
       "      <td>-0.63447</td>\n",
       "      <td>-0.10536</td>\n",
       "      <td>-0.10607</td>\n",
       "      <td>-0.123310</td>\n",
       "      <td>0.012997</td>\n",
       "      <td>-0.011022</td>\n",
       "      <td>0.396550</td>\n",
       "      <td>1.948800</td>\n",
       "      <td>-11.8300</td>\n",
       "      <td>13</td>\n",
       "      <td>fine_concrete</td>\n",
       "    </tr>\n",
       "    <tr>\n",
       "      <th>17</th>\n",
       "      <td>0_17</td>\n",
       "      <td>0</td>\n",
       "      <td>17</td>\n",
       "      <td>-0.75835</td>\n",
       "      <td>-0.63451</td>\n",
       "      <td>-0.10518</td>\n",
       "      <td>-0.10598</td>\n",
       "      <td>-0.008814</td>\n",
       "      <td>-0.030847</td>\n",
       "      <td>-0.021756</td>\n",
       "      <td>0.327960</td>\n",
       "      <td>1.219600</td>\n",
       "      <td>-12.5120</td>\n",
       "      <td>13</td>\n",
       "      <td>fine_concrete</td>\n",
       "    </tr>\n",
       "    <tr>\n",
       "      <th>18</th>\n",
       "      <td>0_18</td>\n",
       "      <td>0</td>\n",
       "      <td>18</td>\n",
       "      <td>-0.75835</td>\n",
       "      <td>-0.63453</td>\n",
       "      <td>-0.10511</td>\n",
       "      <td>-0.10595</td>\n",
       "      <td>0.050935</td>\n",
       "      <td>-0.024422</td>\n",
       "      <td>-0.018136</td>\n",
       "      <td>0.774420</td>\n",
       "      <td>2.607700</td>\n",
       "      <td>-9.5633</td>\n",
       "      <td>13</td>\n",
       "      <td>fine_concrete</td>\n",
       "    </tr>\n",
       "    <tr>\n",
       "      <th>19</th>\n",
       "      <td>0_19</td>\n",
       "      <td>0</td>\n",
       "      <td>19</td>\n",
       "      <td>-0.75833</td>\n",
       "      <td>-0.63456</td>\n",
       "      <td>-0.10512</td>\n",
       "      <td>-0.10596</td>\n",
       "      <td>-0.005211</td>\n",
       "      <td>0.005175</td>\n",
       "      <td>-0.026287</td>\n",
       "      <td>0.438190</td>\n",
       "      <td>3.672600</td>\n",
       "      <td>-6.8334</td>\n",
       "      <td>13</td>\n",
       "      <td>fine_concrete</td>\n",
       "    </tr>\n",
       "  </tbody>\n",
       "</table>\n",
       "</div>"
      ],
      "text/plain": [
       "   row_id  series_id  measurement_number  orientation_X  orientation_Y  \\\n",
       "0     0_0          0                   0       -0.75853       -0.63435   \n",
       "1     0_1          0                   1       -0.75853       -0.63434   \n",
       "2     0_2          0                   2       -0.75853       -0.63435   \n",
       "3     0_3          0                   3       -0.75852       -0.63436   \n",
       "4     0_4          0                   4       -0.75852       -0.63435   \n",
       "5     0_5          0                   5       -0.75853       -0.63439   \n",
       "6     0_6          0                   6       -0.75853       -0.63441   \n",
       "7     0_7          0                   7       -0.75852       -0.63444   \n",
       "8     0_8          0                   8       -0.75851       -0.63445   \n",
       "9     0_9          0                   9       -0.75851       -0.63443   \n",
       "10   0_10          0                  10       -0.75848       -0.63443   \n",
       "11   0_11          0                  11       -0.75847       -0.63444   \n",
       "12   0_12          0                  12       -0.75846       -0.63448   \n",
       "13   0_13          0                  13       -0.75846       -0.63445   \n",
       "14   0_14          0                  14       -0.75842       -0.63447   \n",
       "15   0_15          0                  15       -0.75838       -0.63447   \n",
       "16   0_16          0                  16       -0.75835       -0.63447   \n",
       "17   0_17          0                  17       -0.75835       -0.63451   \n",
       "18   0_18          0                  18       -0.75835       -0.63453   \n",
       "19   0_19          0                  19       -0.75833       -0.63456   \n",
       "\n",
       "    orientation_Z  orientation_W  angular_velocity_X  angular_velocity_Y  \\\n",
       "0        -0.10488       -0.10597            0.107650            0.017561   \n",
       "1        -0.10490       -0.10600            0.067851            0.029939   \n",
       "2        -0.10492       -0.10597            0.007275            0.028934   \n",
       "3        -0.10495       -0.10597           -0.013053            0.019448   \n",
       "4        -0.10495       -0.10596            0.005135            0.007652   \n",
       "5        -0.10483       -0.10580            0.059664            0.013043   \n",
       "6        -0.10481       -0.10569            0.082140            0.044356   \n",
       "7        -0.10480       -0.10561            0.056218            0.038162   \n",
       "8        -0.10485       -0.10559           -0.012846            0.039004   \n",
       "9        -0.10489       -0.10567           -0.090082            0.027299   \n",
       "10       -0.10497       -0.10575           -0.088418            0.011778   \n",
       "11       -0.10499       -0.10573            0.000671            0.022855   \n",
       "12       -0.10495       -0.10570            0.040139           -0.003868   \n",
       "13       -0.10504       -0.10573           -0.014728            0.001884   \n",
       "14       -0.10512       -0.10582           -0.097677            0.008167   \n",
       "15       -0.10525       -0.10597           -0.156020            0.012320   \n",
       "16       -0.10536       -0.10607           -0.123310            0.012997   \n",
       "17       -0.10518       -0.10598           -0.008814           -0.030847   \n",
       "18       -0.10511       -0.10595            0.050935           -0.024422   \n",
       "19       -0.10512       -0.10596           -0.005211            0.005175   \n",
       "\n",
       "    angular_velocity_Z  linear_acceleration_X  linear_acceleration_Y  \\\n",
       "0             0.000767              -0.748570               2.103000   \n",
       "1             0.003385               0.339950               1.506400   \n",
       "2            -0.005978              -0.264290               1.592200   \n",
       "3            -0.008974               0.426840               1.099300   \n",
       "4             0.005245              -0.509690               1.468900   \n",
       "5            -0.013231              -0.447450               0.992810   \n",
       "6            -0.002696              -0.141630               0.734970   \n",
       "7            -0.022931              -0.121600               0.075417   \n",
       "8            -0.007831               1.600000               0.816110   \n",
       "9            -0.009970               0.474960               0.909600   \n",
       "10           -0.016589               1.594300               0.372050   \n",
       "11           -0.005791               0.936820               0.126510   \n",
       "12           -0.030181               0.672260               0.851970   \n",
       "13           -0.010793               1.497800               1.620500   \n",
       "14           -0.026073               0.091442               1.244900   \n",
       "15           -0.026409               1.656300               2.153600   \n",
       "16           -0.011022               0.396550               1.948800   \n",
       "17           -0.021756               0.327960               1.219600   \n",
       "18           -0.018136               0.774420               2.607700   \n",
       "19           -0.026287               0.438190               3.672600   \n",
       "\n",
       "    linear_acceleration_Z  group_id        surface  \n",
       "0                 -9.7532        13  fine_concrete  \n",
       "1                 -9.4128        13  fine_concrete  \n",
       "2                 -8.7267        13  fine_concrete  \n",
       "3                -10.0960        13  fine_concrete  \n",
       "4                -10.4410        13  fine_concrete  \n",
       "5                -10.4020        13  fine_concrete  \n",
       "6                 -9.4296        13  fine_concrete  \n",
       "7                 -8.6088        13  fine_concrete  \n",
       "8                 -7.6426        13  fine_concrete  \n",
       "9                 -8.8120        13  fine_concrete  \n",
       "10               -11.2160        13  fine_concrete  \n",
       "11               -11.2730        13  fine_concrete  \n",
       "12                -9.3933        13  fine_concrete  \n",
       "13                -7.8959        13  fine_concrete  \n",
       "14                -8.1673        13  fine_concrete  \n",
       "15                -9.7079        13  fine_concrete  \n",
       "16               -11.8300        13  fine_concrete  \n",
       "17               -12.5120        13  fine_concrete  \n",
       "18                -9.5633        13  fine_concrete  \n",
       "19                -6.8334        13  fine_concrete  "
      ]
     },
     "execution_count": 4,
     "metadata": {},
     "output_type": "execute_result"
    }
   ],
   "source": [
    "df.head(20)"
   ]
  },
  {
   "cell_type": "code",
   "execution_count": 5,
   "metadata": {},
   "outputs": [
    {
     "name": "stdout",
     "output_type": "stream",
     "text": [
      "<class 'pandas.core.frame.DataFrame'>\n",
      "Int64Index: 487680 entries, 0 to 487679\n",
      "Data columns (total 15 columns):\n",
      "row_id                   487680 non-null object\n",
      "series_id                487680 non-null int64\n",
      "measurement_number       487680 non-null int64\n",
      "orientation_X            487680 non-null float64\n",
      "orientation_Y            487680 non-null float64\n",
      "orientation_Z            487680 non-null float64\n",
      "orientation_W            487680 non-null float64\n",
      "angular_velocity_X       487680 non-null float64\n",
      "angular_velocity_Y       487680 non-null float64\n",
      "angular_velocity_Z       487680 non-null float64\n",
      "linear_acceleration_X    487680 non-null float64\n",
      "linear_acceleration_Y    487680 non-null float64\n",
      "linear_acceleration_Z    487680 non-null float64\n",
      "group_id                 487680 non-null int64\n",
      "surface                  487680 non-null object\n",
      "dtypes: float64(10), int64(3), object(2)\n",
      "memory usage: 59.5+ MB\n"
     ]
    }
   ],
   "source": [
    "df.info()"
   ]
  },
  {
   "cell_type": "code",
   "execution_count": 6,
   "metadata": {},
   "outputs": [
    {
     "data": {
      "text/html": [
       "<div>\n",
       "<style scoped>\n",
       "    .dataframe tbody tr th:only-of-type {\n",
       "        vertical-align: middle;\n",
       "    }\n",
       "\n",
       "    .dataframe tbody tr th {\n",
       "        vertical-align: top;\n",
       "    }\n",
       "\n",
       "    .dataframe thead th {\n",
       "        text-align: right;\n",
       "    }\n",
       "</style>\n",
       "<table border=\"1\" class=\"dataframe\">\n",
       "  <thead>\n",
       "    <tr style=\"text-align: right;\">\n",
       "      <th></th>\n",
       "      <th>series_id</th>\n",
       "      <th>measurement_number</th>\n",
       "      <th>orientation_X</th>\n",
       "      <th>orientation_Y</th>\n",
       "      <th>orientation_Z</th>\n",
       "      <th>orientation_W</th>\n",
       "      <th>angular_velocity_X</th>\n",
       "      <th>angular_velocity_Y</th>\n",
       "      <th>angular_velocity_Z</th>\n",
       "      <th>linear_acceleration_X</th>\n",
       "      <th>linear_acceleration_Y</th>\n",
       "      <th>linear_acceleration_Z</th>\n",
       "      <th>group_id</th>\n",
       "    </tr>\n",
       "  </thead>\n",
       "  <tbody>\n",
       "    <tr>\n",
       "      <th>count</th>\n",
       "      <td>487680.000000</td>\n",
       "      <td>487680.000000</td>\n",
       "      <td>487680.000000</td>\n",
       "      <td>487680.000000</td>\n",
       "      <td>487680.000000</td>\n",
       "      <td>487680.000000</td>\n",
       "      <td>487680.000000</td>\n",
       "      <td>487680.000000</td>\n",
       "      <td>487680.000000</td>\n",
       "      <td>487680.000000</td>\n",
       "      <td>487680.000000</td>\n",
       "      <td>487680.000000</td>\n",
       "      <td>487680.000000</td>\n",
       "    </tr>\n",
       "    <tr>\n",
       "      <th>mean</th>\n",
       "      <td>1904.500000</td>\n",
       "      <td>63.500000</td>\n",
       "      <td>-0.018050</td>\n",
       "      <td>0.075062</td>\n",
       "      <td>0.012458</td>\n",
       "      <td>-0.003804</td>\n",
       "      <td>0.000178</td>\n",
       "      <td>0.008338</td>\n",
       "      <td>-0.019184</td>\n",
       "      <td>0.129281</td>\n",
       "      <td>2.886468</td>\n",
       "      <td>-9.364886</td>\n",
       "      <td>37.601312</td>\n",
       "    </tr>\n",
       "    <tr>\n",
       "      <th>std</th>\n",
       "      <td>1099.853353</td>\n",
       "      <td>36.949327</td>\n",
       "      <td>0.685696</td>\n",
       "      <td>0.708226</td>\n",
       "      <td>0.105972</td>\n",
       "      <td>0.104299</td>\n",
       "      <td>0.117764</td>\n",
       "      <td>0.088677</td>\n",
       "      <td>0.229153</td>\n",
       "      <td>1.870600</td>\n",
       "      <td>2.140067</td>\n",
       "      <td>2.845341</td>\n",
       "      <td>20.980011</td>\n",
       "    </tr>\n",
       "    <tr>\n",
       "      <th>min</th>\n",
       "      <td>0.000000</td>\n",
       "      <td>0.000000</td>\n",
       "      <td>-0.989100</td>\n",
       "      <td>-0.989650</td>\n",
       "      <td>-0.162830</td>\n",
       "      <td>-0.156620</td>\n",
       "      <td>-2.371000</td>\n",
       "      <td>-0.927860</td>\n",
       "      <td>-1.268800</td>\n",
       "      <td>-36.067000</td>\n",
       "      <td>-121.490000</td>\n",
       "      <td>-75.386000</td>\n",
       "      <td>0.000000</td>\n",
       "    </tr>\n",
       "    <tr>\n",
       "      <th>25%</th>\n",
       "      <td>952.000000</td>\n",
       "      <td>31.750000</td>\n",
       "      <td>-0.705120</td>\n",
       "      <td>-0.688980</td>\n",
       "      <td>-0.089466</td>\n",
       "      <td>-0.106060</td>\n",
       "      <td>-0.040752</td>\n",
       "      <td>-0.033191</td>\n",
       "      <td>-0.090743</td>\n",
       "      <td>-0.530833</td>\n",
       "      <td>1.957900</td>\n",
       "      <td>-10.193000</td>\n",
       "      <td>19.000000</td>\n",
       "    </tr>\n",
       "    <tr>\n",
       "      <th>50%</th>\n",
       "      <td>1904.500000</td>\n",
       "      <td>63.500000</td>\n",
       "      <td>-0.105960</td>\n",
       "      <td>0.237855</td>\n",
       "      <td>0.031949</td>\n",
       "      <td>-0.018704</td>\n",
       "      <td>0.000084</td>\n",
       "      <td>0.005412</td>\n",
       "      <td>-0.005335</td>\n",
       "      <td>0.124980</td>\n",
       "      <td>2.879600</td>\n",
       "      <td>-9.365300</td>\n",
       "      <td>39.000000</td>\n",
       "    </tr>\n",
       "    <tr>\n",
       "      <th>75%</th>\n",
       "      <td>2857.000000</td>\n",
       "      <td>95.250000</td>\n",
       "      <td>0.651803</td>\n",
       "      <td>0.809550</td>\n",
       "      <td>0.122870</td>\n",
       "      <td>0.097215</td>\n",
       "      <td>0.040527</td>\n",
       "      <td>0.048068</td>\n",
       "      <td>0.064604</td>\n",
       "      <td>0.792263</td>\n",
       "      <td>3.798800</td>\n",
       "      <td>-8.522700</td>\n",
       "      <td>55.000000</td>\n",
       "    </tr>\n",
       "    <tr>\n",
       "      <th>max</th>\n",
       "      <td>3809.000000</td>\n",
       "      <td>127.000000</td>\n",
       "      <td>0.989100</td>\n",
       "      <td>0.988980</td>\n",
       "      <td>0.155710</td>\n",
       "      <td>0.154770</td>\n",
       "      <td>2.282200</td>\n",
       "      <td>1.079100</td>\n",
       "      <td>1.387300</td>\n",
       "      <td>36.797000</td>\n",
       "      <td>73.008000</td>\n",
       "      <td>65.839000</td>\n",
       "      <td>72.000000</td>\n",
       "    </tr>\n",
       "  </tbody>\n",
       "</table>\n",
       "</div>"
      ],
      "text/plain": [
       "           series_id  measurement_number  orientation_X  orientation_Y  \\\n",
       "count  487680.000000       487680.000000  487680.000000  487680.000000   \n",
       "mean     1904.500000           63.500000      -0.018050       0.075062   \n",
       "std      1099.853353           36.949327       0.685696       0.708226   \n",
       "min         0.000000            0.000000      -0.989100      -0.989650   \n",
       "25%       952.000000           31.750000      -0.705120      -0.688980   \n",
       "50%      1904.500000           63.500000      -0.105960       0.237855   \n",
       "75%      2857.000000           95.250000       0.651803       0.809550   \n",
       "max      3809.000000          127.000000       0.989100       0.988980   \n",
       "\n",
       "       orientation_Z  orientation_W  angular_velocity_X  angular_velocity_Y  \\\n",
       "count  487680.000000  487680.000000       487680.000000       487680.000000   \n",
       "mean        0.012458      -0.003804            0.000178            0.008338   \n",
       "std         0.105972       0.104299            0.117764            0.088677   \n",
       "min        -0.162830      -0.156620           -2.371000           -0.927860   \n",
       "25%        -0.089466      -0.106060           -0.040752           -0.033191   \n",
       "50%         0.031949      -0.018704            0.000084            0.005412   \n",
       "75%         0.122870       0.097215            0.040527            0.048068   \n",
       "max         0.155710       0.154770            2.282200            1.079100   \n",
       "\n",
       "       angular_velocity_Z  linear_acceleration_X  linear_acceleration_Y  \\\n",
       "count       487680.000000          487680.000000          487680.000000   \n",
       "mean            -0.019184               0.129281               2.886468   \n",
       "std              0.229153               1.870600               2.140067   \n",
       "min             -1.268800             -36.067000            -121.490000   \n",
       "25%             -0.090743              -0.530833               1.957900   \n",
       "50%             -0.005335               0.124980               2.879600   \n",
       "75%              0.064604               0.792263               3.798800   \n",
       "max              1.387300              36.797000              73.008000   \n",
       "\n",
       "       linear_acceleration_Z       group_id  \n",
       "count          487680.000000  487680.000000  \n",
       "mean               -9.364886      37.601312  \n",
       "std                 2.845341      20.980011  \n",
       "min               -75.386000       0.000000  \n",
       "25%               -10.193000      19.000000  \n",
       "50%                -9.365300      39.000000  \n",
       "75%                -8.522700      55.000000  \n",
       "max                65.839000      72.000000  "
      ]
     },
     "execution_count": 6,
     "metadata": {},
     "output_type": "execute_result"
    }
   ],
   "source": [
    "# Sumário estatístico\n",
    "df.describe()"
   ]
  },
  {
   "cell_type": "markdown",
   "metadata": {},
   "source": [
    "# Tratamento e Verificação dos Dados"
   ]
  },
  {
   "cell_type": "code",
   "execution_count": 7,
   "metadata": {},
   "outputs": [
    {
     "data": {
      "text/plain": [
       "False"
      ]
     },
     "execution_count": 7,
     "metadata": {},
     "output_type": "execute_result"
    }
   ],
   "source": [
    "#Verificando se existem dados null\n",
    "df.isnull().values.any() "
   ]
  },
  {
   "cell_type": "code",
   "execution_count": 8,
   "metadata": {},
   "outputs": [
    {
     "data": {
      "text/plain": [
       "Series([], dtype: bool)"
      ]
     },
     "execution_count": 8,
     "metadata": {},
     "output_type": "execute_result"
    }
   ],
   "source": [
    "#Checando valores NA nos dados\n",
    "df.isna().any()[lambda x: x]"
   ]
  },
  {
   "cell_type": "code",
   "execution_count": 9,
   "metadata": {},
   "outputs": [],
   "source": [
    "#Eliminando coluna sem utilidade\n",
    "df = df.drop('row_id', axis=1)\n",
    "df = df.drop('group_id', axis=1)"
   ]
  },
  {
   "cell_type": "code",
   "execution_count": 10,
   "metadata": {},
   "outputs": [
    {
     "data": {
      "text/html": [
       "<div>\n",
       "<style scoped>\n",
       "    .dataframe tbody tr th:only-of-type {\n",
       "        vertical-align: middle;\n",
       "    }\n",
       "\n",
       "    .dataframe tbody tr th {\n",
       "        vertical-align: top;\n",
       "    }\n",
       "\n",
       "    .dataframe thead th {\n",
       "        text-align: right;\n",
       "    }\n",
       "</style>\n",
       "<table border=\"1\" class=\"dataframe\">\n",
       "  <thead>\n",
       "    <tr style=\"text-align: right;\">\n",
       "      <th></th>\n",
       "      <th>series_id</th>\n",
       "      <th>measurement_number</th>\n",
       "      <th>orientation_X</th>\n",
       "      <th>orientation_Y</th>\n",
       "      <th>orientation_Z</th>\n",
       "      <th>orientation_W</th>\n",
       "      <th>angular_velocity_X</th>\n",
       "      <th>angular_velocity_Y</th>\n",
       "      <th>angular_velocity_Z</th>\n",
       "      <th>linear_acceleration_X</th>\n",
       "      <th>linear_acceleration_Y</th>\n",
       "      <th>linear_acceleration_Z</th>\n",
       "      <th>surface</th>\n",
       "      <th>surface_label</th>\n",
       "    </tr>\n",
       "  </thead>\n",
       "  <tbody>\n",
       "    <tr>\n",
       "      <th>0</th>\n",
       "      <td>0</td>\n",
       "      <td>0</td>\n",
       "      <td>-0.75853</td>\n",
       "      <td>-0.63435</td>\n",
       "      <td>-0.10488</td>\n",
       "      <td>-0.10597</td>\n",
       "      <td>0.107650</td>\n",
       "      <td>0.017561</td>\n",
       "      <td>0.000767</td>\n",
       "      <td>-0.74857</td>\n",
       "      <td>2.1030</td>\n",
       "      <td>-9.7532</td>\n",
       "      <td>fine_concrete</td>\n",
       "      <td>2</td>\n",
       "    </tr>\n",
       "    <tr>\n",
       "      <th>1</th>\n",
       "      <td>0</td>\n",
       "      <td>1</td>\n",
       "      <td>-0.75853</td>\n",
       "      <td>-0.63434</td>\n",
       "      <td>-0.10490</td>\n",
       "      <td>-0.10600</td>\n",
       "      <td>0.067851</td>\n",
       "      <td>0.029939</td>\n",
       "      <td>0.003385</td>\n",
       "      <td>0.33995</td>\n",
       "      <td>1.5064</td>\n",
       "      <td>-9.4128</td>\n",
       "      <td>fine_concrete</td>\n",
       "      <td>2</td>\n",
       "    </tr>\n",
       "    <tr>\n",
       "      <th>2</th>\n",
       "      <td>0</td>\n",
       "      <td>2</td>\n",
       "      <td>-0.75853</td>\n",
       "      <td>-0.63435</td>\n",
       "      <td>-0.10492</td>\n",
       "      <td>-0.10597</td>\n",
       "      <td>0.007275</td>\n",
       "      <td>0.028934</td>\n",
       "      <td>-0.005978</td>\n",
       "      <td>-0.26429</td>\n",
       "      <td>1.5922</td>\n",
       "      <td>-8.7267</td>\n",
       "      <td>fine_concrete</td>\n",
       "      <td>2</td>\n",
       "    </tr>\n",
       "    <tr>\n",
       "      <th>3</th>\n",
       "      <td>0</td>\n",
       "      <td>3</td>\n",
       "      <td>-0.75852</td>\n",
       "      <td>-0.63436</td>\n",
       "      <td>-0.10495</td>\n",
       "      <td>-0.10597</td>\n",
       "      <td>-0.013053</td>\n",
       "      <td>0.019448</td>\n",
       "      <td>-0.008974</td>\n",
       "      <td>0.42684</td>\n",
       "      <td>1.0993</td>\n",
       "      <td>-10.0960</td>\n",
       "      <td>fine_concrete</td>\n",
       "      <td>2</td>\n",
       "    </tr>\n",
       "    <tr>\n",
       "      <th>4</th>\n",
       "      <td>0</td>\n",
       "      <td>4</td>\n",
       "      <td>-0.75852</td>\n",
       "      <td>-0.63435</td>\n",
       "      <td>-0.10495</td>\n",
       "      <td>-0.10596</td>\n",
       "      <td>0.005135</td>\n",
       "      <td>0.007652</td>\n",
       "      <td>0.005245</td>\n",
       "      <td>-0.50969</td>\n",
       "      <td>1.4689</td>\n",
       "      <td>-10.4410</td>\n",
       "      <td>fine_concrete</td>\n",
       "      <td>2</td>\n",
       "    </tr>\n",
       "  </tbody>\n",
       "</table>\n",
       "</div>"
      ],
      "text/plain": [
       "   series_id  measurement_number  orientation_X  orientation_Y  orientation_Z  \\\n",
       "0          0                   0       -0.75853       -0.63435       -0.10488   \n",
       "1          0                   1       -0.75853       -0.63434       -0.10490   \n",
       "2          0                   2       -0.75853       -0.63435       -0.10492   \n",
       "3          0                   3       -0.75852       -0.63436       -0.10495   \n",
       "4          0                   4       -0.75852       -0.63435       -0.10495   \n",
       "\n",
       "   orientation_W  angular_velocity_X  angular_velocity_Y  angular_velocity_Z  \\\n",
       "0       -0.10597            0.107650            0.017561            0.000767   \n",
       "1       -0.10600            0.067851            0.029939            0.003385   \n",
       "2       -0.10597            0.007275            0.028934           -0.005978   \n",
       "3       -0.10597           -0.013053            0.019448           -0.008974   \n",
       "4       -0.10596            0.005135            0.007652            0.005245   \n",
       "\n",
       "   linear_acceleration_X  linear_acceleration_Y  linear_acceleration_Z  \\\n",
       "0               -0.74857                 2.1030                -9.7532   \n",
       "1                0.33995                 1.5064                -9.4128   \n",
       "2               -0.26429                 1.5922                -8.7267   \n",
       "3                0.42684                 1.0993               -10.0960   \n",
       "4               -0.50969                 1.4689               -10.4410   \n",
       "\n",
       "         surface  surface_label  \n",
       "0  fine_concrete              2  \n",
       "1  fine_concrete              2  \n",
       "2  fine_concrete              2  \n",
       "3  fine_concrete              2  \n",
       "4  fine_concrete              2  "
      ]
     },
     "execution_count": 10,
     "metadata": {},
     "output_type": "execute_result"
    }
   ],
   "source": [
    "# Transformando a varíavel Target em Números com o LabelEncoder\n",
    "labelencoder_surface = LabelEncoder()\n",
    "df['surface_label'] = labelencoder_surface.fit_transform(df['surface'])\n",
    "\n",
    "df.head(5)"
   ]
  },
  {
   "cell_type": "markdown",
   "metadata": {},
   "source": [
    "# Explorando os dados"
   ]
  },
  {
   "cell_type": "code",
   "execution_count": 11,
   "metadata": {},
   "outputs": [
    {
     "data": {
      "image/png": "[encoded data removed]",
      "text/plain": [
       "<Figure size 1440x5040 with 28 Axes>"
      ]
     },
     "metadata": {
      "needs_background": "light"
     },
     "output_type": "display_data"
    }
   ],
   "source": [
    "# Box-Plot\n",
    "df.plot(kind = 'box', subplots = True, layout = (7,4), sharex = False, sharey = False, figsize=(20,70))\n",
    "plt.show()"
   ]
  },
  {
   "cell_type": "code",
   "execution_count": 12,
   "metadata": {},
   "outputs": [
    {
     "data": {
      "image/png": "[encoded data removed]",
      "text/plain": [
       "<Figure size 432x432 with 1 Axes>"
      ]
     },
     "metadata": {
      "needs_background": "light"
     },
     "output_type": "display_data"
    }
   ],
   "source": [
    "df['surface'].value_counts().plot(kind='bar', figsize=(6,6))\n",
    "plt.title('Tipo de Superficie - Target')\n",
    "plt.xlabel('surface')\n",
    "plt.ylabel('Frequency')\n",
    "plt.show()"
   ]
  },
  {
   "cell_type": "code",
   "execution_count": 13,
   "metadata": {},
   "outputs": [
    {
     "data": {
      "text/plain": [
       "series_id                0.000000\n",
       "measurement_number       0.000000\n",
       "orientation_X            0.027906\n",
       "orientation_Y           -0.180998\n",
       "orientation_Z           -0.175208\n",
       "orientation_W            0.039368\n",
       "angular_velocity_X       0.052843\n",
       "angular_velocity_Y       0.112263\n",
       "angular_velocity_Z      -0.275458\n",
       "linear_acceleration_X    0.111975\n",
       "linear_acceleration_Y   -1.093905\n",
       "linear_acceleration_Z   -0.065355\n",
       "surface_label           -0.159903\n",
       "dtype: float64"
      ]
     },
     "execution_count": 13,
     "metadata": {},
     "output_type": "execute_result"
    }
   ],
   "source": [
    "# Verificando o skew de cada atributo\n",
    "df.skew()"
   ]
  },
  {
   "cell_type": "markdown",
   "metadata": {},
   "source": [
    "# Correlação entre as variáveis"
   ]
  },
  {
   "cell_type": "code",
   "execution_count": 14,
   "metadata": {},
   "outputs": [
    {
     "data": {
      "image/png": "[encoded data removed]",
      "text/plain": [
       "<Figure size 1440x1440 with 2 Axes>"
      ]
     },
     "metadata": {
      "needs_background": "light"
     },
     "output_type": "display_data"
    }
   ],
   "source": [
    "corr = df.corr()\n",
    "_ , ax = plt.subplots( figsize =( 20 , 20 ) )\n",
    "cmap = sns.diverging_palette( 220 , 20 , as_cmap = True )\n",
    "_ = sns.heatmap(corr, cmap = cmap, square=True, cbar_kws={ 'shrink' : .9 }, ax=ax, annot = True, annot_kws = {'fontsize' : 12 })"
   ]
  },
  {
   "cell_type": "code",
   "execution_count": 15,
   "metadata": {},
   "outputs": [
    {
     "name": "stdout",
     "output_type": "stream",
     "text": [
      "angular_velocity_Y      -0.126276\n",
      "series_id               -0.017232\n",
      "angular_velocity_X      -0.005343\n",
      "linear_acceleration_Y   -0.002226\n",
      "linear_acceleration_Z   -0.000807\n",
      "dtype: float64\n",
      "\n",
      "\n",
      "linear_acceleration_X    0.009695\n",
      "orientation_Z            0.012337\n",
      "orientation_W            0.072415\n",
      "orientation_X            0.074993\n",
      "angular_velocity_Z       0.158000\n",
      "dtype: float64\n"
     ]
    }
   ],
   "source": [
    "# Correlação com a variavel TARGET\n",
    "correlations_data = df[df.columns.drop('surface_label')].corrwith(df.surface_label).sort_values()\n",
    "# Correlacao Negativa - Primeiros 5\n",
    "print(correlations_data.head(5))\n",
    "print('\\n')\n",
    "#Correlação Positiva - Ultimos 5\n",
    "print(correlations_data.tail(5))\n"
   ]
  },
  {
   "cell_type": "code",
   "execution_count": 16,
   "metadata": {},
   "outputs": [
    {
     "data": {
      "text/plain": [
       "52318"
      ]
     },
     "execution_count": 16,
     "metadata": {},
     "output_type": "execute_result"
    }
   ],
   "source": [
    "# Limpando a memoria - Force\n",
    "gc.collect()"
   ]
  },
  {
   "cell_type": "markdown",
   "metadata": {},
   "source": [
    "# Modelagem dos Dados"
   ]
  },
  {
   "cell_type": "code",
   "execution_count": 17,
   "metadata": {},
   "outputs": [
    {
     "data": {
      "text/plain": [
       "concrete                  99712\n",
       "soft_pvc                  93696\n",
       "wood                      77696\n",
       "tiled                     65792\n",
       "fine_concrete             46464\n",
       "hard_tiles_large_space    39424\n",
       "soft_tiles                38016\n",
       "carpet                    24192\n",
       "hard_tiles                 2688\n",
       "Name: surface, dtype: int64"
      ]
     },
     "execution_count": 17,
     "metadata": {},
     "output_type": "execute_result"
    }
   ],
   "source": [
    "seed = 1313\n",
    "df.surface.value_counts()"
   ]
  },
  {
   "cell_type": "code",
   "execution_count": 18,
   "metadata": {},
   "outputs": [
    {
     "data": {
      "text/plain": [
       "Index(['series_id', 'measurement_number', 'orientation_X', 'orientation_Y',\n",
       "       'orientation_Z', 'orientation_W', 'angular_velocity_X',\n",
       "       'angular_velocity_Y', 'angular_velocity_Z', 'linear_acceleration_X',\n",
       "       'linear_acceleration_Y', 'linear_acceleration_Z', 'surface',\n",
       "       'surface_label'],\n",
       "      dtype='object')"
      ]
     },
     "execution_count": 18,
     "metadata": {},
     "output_type": "execute_result"
    }
   ],
   "source": [
    "df.columns"
   ]
  },
  {
   "cell_type": "code",
   "execution_count": 19,
   "metadata": {},
   "outputs": [],
   "source": [
    "# Montagem dos dados\n",
    "array = df.values\n",
    "X = array[:,0:12]\n",
    "Y_texto = df.surface.values\n",
    "Y = df.surface_label.values"
   ]
  },
  {
   "cell_type": "code",
   "execution_count": 20,
   "metadata": {},
   "outputs": [
    {
     "data": {
      "text/plain": [
       "((487680, 12), (487680,))"
      ]
     },
     "execution_count": 20,
     "metadata": {},
     "output_type": "execute_result"
    }
   ],
   "source": [
    "X.shape , Y.shape"
   ]
  },
  {
   "cell_type": "code",
   "execution_count": 21,
   "metadata": {},
   "outputs": [],
   "source": [
    "# Igualando a escala dos dados\n",
    "X = MinMaxScaler(feature_range = (0, 1)).fit_transform(X)"
   ]
  },
  {
   "cell_type": "code",
   "execution_count": 22,
   "metadata": {},
   "outputs": [],
   "source": [
    "# Padronizando os dados\n",
    "X = StandardScaler().fit_transform(X)"
   ]
  },
  {
   "cell_type": "code",
   "execution_count": 23,
   "metadata": {},
   "outputs": [
    {
     "data": {
      "text/plain": [
       "array([[-1.73159626, -1.71857161, -1.07989683, ..., -0.46928895,\n",
       "        -0.36609528, -0.13647385],\n",
       "       [-1.73159626, -1.69150749, -1.07989683, ...,  0.11262123,\n",
       "        -0.64487185, -0.01683956],\n",
       "       [-1.73159626, -1.66444337, -1.07989683, ..., -0.21039847,\n",
       "        -0.60477961,  0.2242917 ],\n",
       "       ...,\n",
       "       [ 1.73159626,  1.66444337,  0.94350897, ...,  1.37684263,\n",
       "         0.64284601,  0.42897738],\n",
       "       [ 1.73159626,  1.69150749,  0.94368397, ...,  1.28927705,\n",
       "         0.85349381, -0.02762914],\n",
       "       [ 1.73159626,  1.71857161,  0.94385898, ...,  0.37134063,\n",
       "         0.64887386, -0.39823535]])"
      ]
     },
     "execution_count": 23,
     "metadata": {},
     "output_type": "execute_result"
    }
   ],
   "source": [
    "X"
   ]
  },
  {
   "cell_type": "markdown",
   "metadata": {},
   "source": [
    "# Dividindo os dados de Treino e Teste"
   ]
  },
  {
   "cell_type": "code",
   "execution_count": 24,
   "metadata": {},
   "outputs": [],
   "source": [
    "X_treino, X_teste, Y_treino, Y_teste = train_test_split(X, Y, test_size=0.30, random_state=seed)"
   ]
  },
  {
   "cell_type": "code",
   "execution_count": 25,
   "metadata": {},
   "outputs": [
    {
     "data": {
      "text/plain": [
       "((341376, 12), (341376,), (146304, 12), (146304,))"
      ]
     },
     "execution_count": 25,
     "metadata": {},
     "output_type": "execute_result"
    }
   ],
   "source": [
    "X_treino.shape, Y_treino.shape, X_teste.shape, Y_teste.shape"
   ]
  },
  {
   "cell_type": "markdown",
   "metadata": {},
   "source": [
    "# Feature selection com Random Forest"
   ]
  },
  {
   "cell_type": "code",
   "execution_count": 26,
   "metadata": {},
   "outputs": [
    {
     "name": "stdout",
     "output_type": "stream",
     "text": [
      "(341376, 6) (146304, 6)\n"
     ]
    }
   ],
   "source": [
    "# Feature selection com Random Forest\n",
    "from sklearn.ensemble import RandomForestClassifier \n",
    "from sklearn.feature_selection import SelectFromModel\n",
    "\n",
    "clf = RandomForestClassifier(random_state=seed)\n",
    "selector = clf.fit(X_treino, Y_treino)\n",
    "fs = SelectFromModel(selector, prefit=True)\n",
    "\n",
    "X_treino_new = fs.transform(X_treino)\n",
    "X_teste_new = fs.transform(X_teste)\n",
    "\n",
    "feature_idx = fs.get_support()\n",
    "feature_idx = np.append(feature_idx, [False, False])\n",
    "colunasSelecionadas = df.columns[feature_idx]\n",
    "\n",
    "print(X_treino_new.shape, X_teste_new.shape)"
   ]
  },
  {
   "cell_type": "code",
   "execution_count": 27,
   "metadata": {},
   "outputs": [
    {
     "data": {
      "text/plain": [
       "Index(['series_id', 'orientation_X', 'orientation_Y', 'orientation_Z',\n",
       "       'orientation_W', 'angular_velocity_Z'],\n",
       "      dtype='object')"
      ]
     },
     "execution_count": 27,
     "metadata": {},
     "output_type": "execute_result"
    }
   ],
   "source": [
    "colunasSelecionadas"
   ]
  },
  {
   "cell_type": "code",
   "execution_count": 28,
   "metadata": {},
   "outputs": [
    {
     "data": {
      "text/plain": [
       "Index(['series_id', 'measurement_number', 'orientation_X', 'orientation_Y',\n",
       "       'orientation_Z', 'orientation_W', 'angular_velocity_X',\n",
       "       'angular_velocity_Y', 'angular_velocity_Z', 'linear_acceleration_X',\n",
       "       'linear_acceleration_Y', 'linear_acceleration_Z', 'surface',\n",
       "       'surface_label'],\n",
       "      dtype='object')"
      ]
     },
     "execution_count": 28,
     "metadata": {},
     "output_type": "execute_result"
    }
   ],
   "source": [
    "df.columns"
   ]
  },
  {
   "cell_type": "markdown",
   "metadata": {},
   "source": [
    "# Treinando vários modelos juntos - Modelos de Classificacao Basicos"
   ]
  },
  {
   "cell_type": "code",
   "execution_count": 29,
   "metadata": {},
   "outputs": [
    {
     "name": "stdout",
     "output_type": "stream",
     "text": [
      "NB: 37.957677 (0.002535)\n",
      "KNN: 82.649688 (0.001646)\n",
      "CART: 98.898048 (0.000692)\n"
     ]
    }
   ],
   "source": [
    "from sklearn.tree import DecisionTreeClassifier\n",
    "from sklearn.neighbors import KNeighborsClassifier\n",
    "from sklearn.naive_bayes import GaussianNB\n",
    "from sklearn.model_selection import KFold\n",
    "from sklearn.model_selection import cross_val_score\n",
    "\n",
    "# Definindo os valores para o número de folds\n",
    "num_folds = 15\n",
    "\n",
    "# Preparando a lista de modelos\n",
    "modelos = []\n",
    "modelos.append(('NB', GaussianNB()))\n",
    "modelos.append(('KNN', KNeighborsClassifier()))\n",
    "modelos.append(('CART', DecisionTreeClassifier()))\n",
    "\n",
    "# Avaliando cada modelo em um loop\n",
    "for nome, modelo in modelos:\n",
    "    kfold = KFold(num_folds, True, random_state = seed)\n",
    "    cv_results = cross_val_score(modelo, X, Y, cv = kfold, scoring = 'accuracy')\n",
    "    msg = \"%s: %f (%f)\" % (nome, cv_results.mean() * 100, cv_results.std())\n",
    "    print(msg)\n"
   ]
  },
  {
   "cell_type": "markdown",
   "metadata": {},
   "source": [
    "# Primeira Versao do Modelo com Features Selection"
   ]
  },
  {
   "cell_type": "code",
   "execution_count": 30,
   "metadata": {},
   "outputs": [
    {
     "name": "stdout",
     "output_type": "stream",
     "text": [
      "Acuracia do Modelo 1: 79.53\n"
     ]
    }
   ],
   "source": [
    "#Criando o Modelo - Versao 1\n",
    "from xgboost import XGBClassifier\n",
    "modelo = XGBClassifier(n_estimators=110, nthread=-1, seed=seed, objective='multi:softmax')\n",
    "\n",
    "# Treinando o modelo\n",
    "modelo.fit(X_treino_new, Y_treino, eval_metric=\"auc\", verbose = False)\n",
    "\n",
    "# Fazendo previsões\n",
    "y_pred = modelo.predict(X_teste_new)\n",
    "previsoes = [round(value) for value in y_pred]\n",
    "\n",
    "#Resultado do Modelo - Versao 1\n",
    "resultado = accuracy_score(Y_teste, previsoes)\n",
    "print(\"Acuracia do Modelo 1: %.2f\" % (resultado * 100.0))\n"
   ]
  },
  {
   "cell_type": "markdown",
   "metadata": {},
   "source": [
    "# Segunda Versao do Modelo sem Features Selection"
   ]
  },
  {
   "cell_type": "code",
   "execution_count": 31,
   "metadata": {},
   "outputs": [
    {
     "name": "stdout",
     "output_type": "stream",
     "text": [
      "Acuracia do Modelo 2: 61.15\n"
     ]
    }
   ],
   "source": [
    "#Criando o Modelo - Versao 2\n",
    "from xgboost import XGBClassifier\n",
    "modelo2 = XGBClassifier(learning_rate=0.005, n_estimators=110, nthread=-1, seed=seed, objective='multi:softmax',num_class=9)\n",
    "\n",
    "# Treinando o modelo\n",
    "modelo2.fit(X_treino, Y_treino, eval_metric=\"auc\", verbose = False)\n",
    "\n",
    "# Fazendo previsões\n",
    "y_pred2 = modelo2.predict(X_teste)\n",
    "previsoes2 = [round(value) for value in y_pred2]\n",
    "\n",
    "#Resultado do Modelo - Versao 1\n",
    "resultado2 = accuracy_score(Y_teste, previsoes2)\n",
    "print(\"Acuracia do Modelo 2: %.2f\" % (resultado2 * 100.0))"
   ]
  },
  {
   "cell_type": "markdown",
   "metadata": {},
   "source": [
    "# Algoritmos de Classificacao MultiVariada"
   ]
  },
  {
   "cell_type": "code",
   "execution_count": 33,
   "metadata": {},
   "outputs": [
    {
     "data": {
      "text/plain": [
       "OneVsRestClassifier(estimator=XGBClassifier(base_score=0.5, booster='gbtree', colsample_bylevel=1,\n",
       "       colsample_bynode=1, colsample_bytree=1, gamma=0, learning_rate=0.1,\n",
       "       max_delta_step=0, max_depth=3, min_child_weight=1, missing=None,\n",
       "       n_estimators=150, n_jobs=1, nthread=None, num_class=9,\n",
       "       objective='multi:softmax', random_state=0, reg_alpha=0,\n",
       "       reg_lambda=1, scale_pos_weight=1, seed=None, silent=None,\n",
       "       subsample=1, verbosity=1),\n",
       "          n_jobs=None)"
      ]
     },
     "execution_count": 33,
     "metadata": {},
     "output_type": "execute_result"
    }
   ],
   "source": [
    "from sklearn.multiclass import OneVsRestClassifier\n",
    "from sklearn.preprocessing import MultiLabelBinarizer\n",
    "\n",
    "clf = OneVsRestClassifier(XGBClassifier(n_estimators=150, objective='multi:softmax', num_class=9))\n",
    "clf.fit(X_treino, Y_treino)\n"
   ]
  },
  {
   "cell_type": "code",
   "execution_count": 34,
   "metadata": {},
   "outputs": [
    {
     "name": "stdout",
     "output_type": "stream",
     "text": [
      "Acuracia do Modelo 3: 81.21\n",
      "              precision    recall  f1-score   support\n",
      "\n",
      "           0       0.94      0.61      0.74      7251\n",
      "           1       0.89      0.77      0.83     29902\n",
      "           2       0.93      0.78      0.85     13993\n",
      "           3       0.97      0.91      0.94       814\n",
      "           4       0.94      0.77      0.85     11785\n",
      "           5       0.95      0.79      0.86     28044\n",
      "           6       0.93      0.89      0.91     11351\n",
      "           7       0.95      0.84      0.89     19859\n",
      "           8       0.52      0.93      0.67     23305\n",
      "\n",
      "   micro avg       0.81      0.81      0.81    146304\n",
      "   macro avg       0.89      0.81      0.84    146304\n",
      "weighted avg       0.86      0.81      0.82    146304\n",
      "\n"
     ]
    }
   ],
   "source": [
    "y_pred3 = clf.predict(X_teste)\n",
    "previsoes3 = [round(value) for value in y_pred3]\n",
    "\n",
    "#Resultado do Modelo - Versao 1\n",
    "resultado3 = accuracy_score(Y_teste, previsoes3)\n",
    "print(\"Acuracia do Modelo 3: %.2f\" % (resultado3 * 100.0))\n",
    "\n",
    "from sklearn.metrics import classification_report\n",
    "report = classification_report(Y_teste, previsoes3)\n",
    "\n",
    "# Imprimindo o relatório\n",
    "print(report)"
   ]
  },
  {
   "cell_type": "markdown",
   "metadata": {},
   "source": [
    "## Escolhido o modelo de DecisionTreeClassifier - Melhor acurácia. "
   ]
  },
  {
   "cell_type": "markdown",
   "metadata": {},
   "source": [
    "# Modelo DecisionTreeClassifier otimizado com Features Selection"
   ]
  },
  {
   "cell_type": "code",
   "execution_count": 35,
   "metadata": {},
   "outputs": [
    {
     "name": "stdout",
     "output_type": "stream",
     "text": [
      "Acuracia do Modelo 4: 99.49\n",
      "              precision    recall  f1-score   support\n",
      "\n",
      "           0       1.00      0.99      0.99      7251\n",
      "           1       1.00      0.99      0.99     29902\n",
      "           2       1.00      1.00      1.00     13993\n",
      "           3       1.00      0.99      1.00       814\n",
      "           4       1.00      0.99      0.99     11785\n",
      "           5       1.00      1.00      1.00     28044\n",
      "           6       1.00      0.99      1.00     11351\n",
      "           7       1.00      1.00      1.00     19859\n",
      "           8       0.98      1.00      0.99     23305\n",
      "\n",
      "   micro avg       0.99      0.99      0.99    146304\n",
      "   macro avg       1.00      0.99      0.99    146304\n",
      "weighted avg       0.99      0.99      0.99    146304\n",
      "\n"
     ]
    }
   ],
   "source": [
    "clf1 = OneVsRestClassifier(DecisionTreeClassifier(criterion='entropy',random_state=seed, splitter='best',min_samples_leaf=12,max_leaf_nodes=1000))\n",
    "\n",
    "clf1.fit(X_treino_new, Y_treino)\n",
    "y_pred4 = clf1.predict(X_teste_new)\n",
    "previsoes4 = [round(value) for value in y_pred4]\n",
    "\n",
    "#Resultado do Modelo - Versao 1\n",
    "resultado4 = accuracy_score(Y_teste, previsoes4)\n",
    "print(\"Acuracia do Modelo 4: %.2f\" % (resultado4 * 100.0))\n",
    "\n",
    "from sklearn.metrics import classification_report\n",
    "report = classification_report(Y_teste, previsoes4)\n",
    "\n",
    "# Imprimindo o relatório\n",
    "print(report)\n"
   ]
  },
  {
   "cell_type": "markdown",
   "metadata": {},
   "source": [
    "# Preparando os dados"
   ]
  },
  {
   "cell_type": "code",
   "execution_count": 36,
   "metadata": {},
   "outputs": [],
   "source": [
    "# Dados de Teste - Limpeza e preparação dos dados para a predição\n",
    "\n",
    "# Carregando o DataSet de Teste\n",
    "df_final = pd.read_csv('data/X_teste.csv', low_memory=False)\n",
    "\n",
    "# O modelo no DataSet de Teste para alguns seriesID, classifica surfaces diferentes \n",
    "# para o mesmo series_id cuja diferença são em algumas medições do sensor (temos 128 posições) \n",
    "# Testei várias soluções, mas optei por classificar a surface pela última análise do sensor = 127\n",
    "# Exemplo de duplicação - series_id=6\n",
    "df_final = df_final[df_final.measurement_number == 127]\n",
    "\n",
    "#Eliminando as colunas sem utilidade\n",
    "df_final = df_final.drop('row_id', axis=1)\n",
    "#Features Selection\n",
    "df_final = df_final.drop('measurement_number', axis=1)\n",
    "df_final = df_final.drop('angular_velocity_X', axis=1)\n",
    "df_final = df_final.drop('angular_velocity_Y', axis=1)\n",
    "df_final = df_final.drop('linear_acceleration_X', axis=1)\n",
    "df_final = df_final.drop('linear_acceleration_Y', axis=1)\n",
    "df_final = df_final.drop('linear_acceleration_Z', axis=1)\n",
    "\n",
    "#Padronizacao / Escala\n",
    "X_predicao_final = df_final.values\n",
    "X_predicao_final = MinMaxScaler(feature_range = (0, 1)).fit_transform(X_predicao_final)\n",
    "X_predicao_final = StandardScaler().fit_transform(X_predicao_final)\n",
    "\n",
    "# Fazendo as previsoes - Modelo 4 Otimizado\n",
    "predicao_final = clf1.predict(X_predicao_final)\n",
    "predicao_final_prob = clf1.predict_proba(X_predicao_final)\n",
    "\n",
    "# Voltando a transformacao da variavel target em formato texto\n",
    "predicao_final_texto = labelencoder_surface.inverse_transform(predicao_final)"
   ]
  },
  {
   "cell_type": "code",
   "execution_count": 37,
   "metadata": {},
   "outputs": [
    {
     "data": {
      "text/plain": [
       "array([7, 7, 8, ..., 4, 7, 5])"
      ]
     },
     "execution_count": 37,
     "metadata": {},
     "output_type": "execute_result"
    }
   ],
   "source": [
    "predicao_final"
   ]
  },
  {
   "cell_type": "code",
   "execution_count": 38,
   "metadata": {},
   "outputs": [
    {
     "data": {
      "text/plain": [
       "array(['tiled', 'tiled', 'wood', ..., 'hard_tiles_large_space', 'tiled',\n",
       "       'soft_pvc'], dtype=object)"
      ]
     },
     "execution_count": 38,
     "metadata": {},
     "output_type": "execute_result"
    }
   ],
   "source": [
    "predicao_final_texto"
   ]
  },
  {
   "cell_type": "code",
   "execution_count": 39,
   "metadata": {},
   "outputs": [
    {
     "data": {
      "text/plain": [
       "array([[0.        , 0.        , 0.        , ..., 0.        , 1.        ,\n",
       "        0.        ],\n",
       "       [0.33333333, 0.        , 0.        , ..., 0.        , 0.33333333,\n",
       "        0.        ],\n",
       "       [0.        , 0.        , 0.        , ..., 0.        , 0.        ,\n",
       "        1.        ],\n",
       "       ...,\n",
       "       [0.        , 0.        , 0.        , ..., 0.        , 0.        ,\n",
       "        0.        ],\n",
       "       [0.14285714, 0.        , 0.        , ..., 0.        , 0.85714286,\n",
       "        0.        ],\n",
       "       [0.        , 0.        , 0.        , ..., 0.        , 0.        ,\n",
       "        0.42857143]])"
      ]
     },
     "execution_count": 39,
     "metadata": {},
     "output_type": "execute_result"
    }
   ],
   "source": [
    "predicao_final_prob"
   ]
  },
  {
   "cell_type": "code",
   "execution_count": 40,
   "metadata": {},
   "outputs": [
    {
     "data": {
      "text/plain": [
       "((3816, 6), (3816,), (3816, 9))"
      ]
     },
     "execution_count": 40,
     "metadata": {},
     "output_type": "execute_result"
    }
   ],
   "source": [
    "df_final.shape, predicao_final_texto.shape, predicao_final_prob.shape"
   ]
  },
  {
   "cell_type": "code",
   "execution_count": 41,
   "metadata": {},
   "outputs": [
    {
     "data": {
      "text/plain": [
       "array([[0.        , 0.        , 0.        , ..., 0.        , 1.        ,\n",
       "        0.        ],\n",
       "       [0.33333333, 0.        , 0.        , ..., 0.        , 0.33333333,\n",
       "        0.        ],\n",
       "       [0.        , 0.        , 0.        , ..., 0.        , 0.        ,\n",
       "        1.        ],\n",
       "       ...,\n",
       "       [0.        , 0.        , 0.        , ..., 0.        , 0.        ,\n",
       "        0.        ],\n",
       "       [0.14285714, 0.        , 0.        , ..., 0.        , 0.85714286,\n",
       "        0.        ],\n",
       "       [0.        , 0.        , 0.        , ..., 0.        , 0.        ,\n",
       "        0.42857143]])"
      ]
     },
     "execution_count": 41,
     "metadata": {},
     "output_type": "execute_result"
    }
   ],
   "source": [
    "predicao_final_prob"
   ]
  },
  {
   "cell_type": "code",
   "execution_count": 42,
   "metadata": {},
   "outputs": [
    {
     "data": {
      "text/plain": [
       "array([0.        , 0.33333333, 0.        , ..., 0.        , 0.14285714,\n",
       "       0.        ])"
      ]
     },
     "execution_count": 42,
     "metadata": {},
     "output_type": "execute_result"
    }
   ],
   "source": [
    "predicao_final_prob[:,0]"
   ]
  },
  {
   "cell_type": "markdown",
   "metadata": {},
   "source": [
    "# Montando DataFrame Final com as predições"
   ]
  },
  {
   "cell_type": "code",
   "execution_count": 43,
   "metadata": {},
   "outputs": [
    {
     "data": {
      "text/html": [
       "<div>\n",
       "<style scoped>\n",
       "    .dataframe tbody tr th:only-of-type {\n",
       "        vertical-align: middle;\n",
       "    }\n",
       "\n",
       "    .dataframe tbody tr th {\n",
       "        vertical-align: top;\n",
       "    }\n",
       "\n",
       "    .dataframe thead th {\n",
       "        text-align: right;\n",
       "    }\n",
       "</style>\n",
       "<table border=\"1\" class=\"dataframe\">\n",
       "  <thead>\n",
       "    <tr style=\"text-align: right;\">\n",
       "      <th></th>\n",
       "      <th>series_id</th>\n",
       "      <th>surface</th>\n",
       "    </tr>\n",
       "  </thead>\n",
       "  <tbody>\n",
       "    <tr>\n",
       "      <th>127</th>\n",
       "      <td>0</td>\n",
       "      <td>tiled</td>\n",
       "    </tr>\n",
       "    <tr>\n",
       "      <th>255</th>\n",
       "      <td>1</td>\n",
       "      <td>tiled</td>\n",
       "    </tr>\n",
       "    <tr>\n",
       "      <th>383</th>\n",
       "      <td>2</td>\n",
       "      <td>wood</td>\n",
       "    </tr>\n",
       "    <tr>\n",
       "      <th>511</th>\n",
       "      <td>3</td>\n",
       "      <td>wood</td>\n",
       "    </tr>\n",
       "    <tr>\n",
       "      <th>639</th>\n",
       "      <td>4</td>\n",
       "      <td>wood</td>\n",
       "    </tr>\n",
       "    <tr>\n",
       "      <th>767</th>\n",
       "      <td>5</td>\n",
       "      <td>wood</td>\n",
       "    </tr>\n",
       "    <tr>\n",
       "      <th>895</th>\n",
       "      <td>6</td>\n",
       "      <td>concrete</td>\n",
       "    </tr>\n",
       "    <tr>\n",
       "      <th>1023</th>\n",
       "      <td>7</td>\n",
       "      <td>soft_tiles</td>\n",
       "    </tr>\n",
       "    <tr>\n",
       "      <th>1151</th>\n",
       "      <td>8</td>\n",
       "      <td>fine_concrete</td>\n",
       "    </tr>\n",
       "    <tr>\n",
       "      <th>1279</th>\n",
       "      <td>9</td>\n",
       "      <td>wood</td>\n",
       "    </tr>\n",
       "    <tr>\n",
       "      <th>1407</th>\n",
       "      <td>10</td>\n",
       "      <td>soft_tiles</td>\n",
       "    </tr>\n",
       "    <tr>\n",
       "      <th>1535</th>\n",
       "      <td>11</td>\n",
       "      <td>tiled</td>\n",
       "    </tr>\n",
       "    <tr>\n",
       "      <th>1663</th>\n",
       "      <td>12</td>\n",
       "      <td>soft_tiles</td>\n",
       "    </tr>\n",
       "    <tr>\n",
       "      <th>1791</th>\n",
       "      <td>13</td>\n",
       "      <td>soft_tiles</td>\n",
       "    </tr>\n",
       "    <tr>\n",
       "      <th>1919</th>\n",
       "      <td>14</td>\n",
       "      <td>wood</td>\n",
       "    </tr>\n",
       "    <tr>\n",
       "      <th>2047</th>\n",
       "      <td>15</td>\n",
       "      <td>wood</td>\n",
       "    </tr>\n",
       "    <tr>\n",
       "      <th>2175</th>\n",
       "      <td>16</td>\n",
       "      <td>wood</td>\n",
       "    </tr>\n",
       "    <tr>\n",
       "      <th>2303</th>\n",
       "      <td>17</td>\n",
       "      <td>wood</td>\n",
       "    </tr>\n",
       "    <tr>\n",
       "      <th>2431</th>\n",
       "      <td>18</td>\n",
       "      <td>wood</td>\n",
       "    </tr>\n",
       "    <tr>\n",
       "      <th>2559</th>\n",
       "      <td>19</td>\n",
       "      <td>soft_pvc</td>\n",
       "    </tr>\n",
       "    <tr>\n",
       "      <th>2687</th>\n",
       "      <td>20</td>\n",
       "      <td>soft_tiles</td>\n",
       "    </tr>\n",
       "    <tr>\n",
       "      <th>2815</th>\n",
       "      <td>21</td>\n",
       "      <td>concrete</td>\n",
       "    </tr>\n",
       "    <tr>\n",
       "      <th>2943</th>\n",
       "      <td>22</td>\n",
       "      <td>soft_tiles</td>\n",
       "    </tr>\n",
       "    <tr>\n",
       "      <th>3071</th>\n",
       "      <td>23</td>\n",
       "      <td>soft_tiles</td>\n",
       "    </tr>\n",
       "    <tr>\n",
       "      <th>3199</th>\n",
       "      <td>24</td>\n",
       "      <td>fine_concrete</td>\n",
       "    </tr>\n",
       "    <tr>\n",
       "      <th>3327</th>\n",
       "      <td>25</td>\n",
       "      <td>tiled</td>\n",
       "    </tr>\n",
       "    <tr>\n",
       "      <th>3455</th>\n",
       "      <td>26</td>\n",
       "      <td>tiled</td>\n",
       "    </tr>\n",
       "    <tr>\n",
       "      <th>3583</th>\n",
       "      <td>27</td>\n",
       "      <td>wood</td>\n",
       "    </tr>\n",
       "    <tr>\n",
       "      <th>3711</th>\n",
       "      <td>28</td>\n",
       "      <td>wood</td>\n",
       "    </tr>\n",
       "    <tr>\n",
       "      <th>3839</th>\n",
       "      <td>29</td>\n",
       "      <td>hard_tiles_large_space</td>\n",
       "    </tr>\n",
       "    <tr>\n",
       "      <th>3967</th>\n",
       "      <td>30</td>\n",
       "      <td>concrete</td>\n",
       "    </tr>\n",
       "    <tr>\n",
       "      <th>4095</th>\n",
       "      <td>31</td>\n",
       "      <td>soft_tiles</td>\n",
       "    </tr>\n",
       "    <tr>\n",
       "      <th>4223</th>\n",
       "      <td>32</td>\n",
       "      <td>tiled</td>\n",
       "    </tr>\n",
       "    <tr>\n",
       "      <th>4351</th>\n",
       "      <td>33</td>\n",
       "      <td>soft_tiles</td>\n",
       "    </tr>\n",
       "    <tr>\n",
       "      <th>4479</th>\n",
       "      <td>34</td>\n",
       "      <td>wood</td>\n",
       "    </tr>\n",
       "    <tr>\n",
       "      <th>4607</th>\n",
       "      <td>35</td>\n",
       "      <td>soft_tiles</td>\n",
       "    </tr>\n",
       "    <tr>\n",
       "      <th>4735</th>\n",
       "      <td>36</td>\n",
       "      <td>tiled</td>\n",
       "    </tr>\n",
       "    <tr>\n",
       "      <th>4863</th>\n",
       "      <td>37</td>\n",
       "      <td>tiled</td>\n",
       "    </tr>\n",
       "    <tr>\n",
       "      <th>4991</th>\n",
       "      <td>38</td>\n",
       "      <td>soft_tiles</td>\n",
       "    </tr>\n",
       "    <tr>\n",
       "      <th>5119</th>\n",
       "      <td>39</td>\n",
       "      <td>soft_pvc</td>\n",
       "    </tr>\n",
       "    <tr>\n",
       "      <th>5247</th>\n",
       "      <td>40</td>\n",
       "      <td>tiled</td>\n",
       "    </tr>\n",
       "    <tr>\n",
       "      <th>5375</th>\n",
       "      <td>41</td>\n",
       "      <td>concrete</td>\n",
       "    </tr>\n",
       "    <tr>\n",
       "      <th>5503</th>\n",
       "      <td>42</td>\n",
       "      <td>soft_pvc</td>\n",
       "    </tr>\n",
       "    <tr>\n",
       "      <th>5631</th>\n",
       "      <td>43</td>\n",
       "      <td>wood</td>\n",
       "    </tr>\n",
       "    <tr>\n",
       "      <th>5759</th>\n",
       "      <td>44</td>\n",
       "      <td>soft_tiles</td>\n",
       "    </tr>\n",
       "    <tr>\n",
       "      <th>5887</th>\n",
       "      <td>45</td>\n",
       "      <td>wood</td>\n",
       "    </tr>\n",
       "    <tr>\n",
       "      <th>6015</th>\n",
       "      <td>46</td>\n",
       "      <td>wood</td>\n",
       "    </tr>\n",
       "    <tr>\n",
       "      <th>6143</th>\n",
       "      <td>47</td>\n",
       "      <td>soft_pvc</td>\n",
       "    </tr>\n",
       "    <tr>\n",
       "      <th>6271</th>\n",
       "      <td>48</td>\n",
       "      <td>soft_pvc</td>\n",
       "    </tr>\n",
       "    <tr>\n",
       "      <th>6399</th>\n",
       "      <td>49</td>\n",
       "      <td>carpet</td>\n",
       "    </tr>\n",
       "  </tbody>\n",
       "</table>\n",
       "</div>"
      ],
      "text/plain": [
       "      series_id                 surface\n",
       "127           0                   tiled\n",
       "255           1                   tiled\n",
       "383           2                    wood\n",
       "511           3                    wood\n",
       "639           4                    wood\n",
       "767           5                    wood\n",
       "895           6                concrete\n",
       "1023          7              soft_tiles\n",
       "1151          8           fine_concrete\n",
       "1279          9                    wood\n",
       "1407         10              soft_tiles\n",
       "1535         11                   tiled\n",
       "1663         12              soft_tiles\n",
       "1791         13              soft_tiles\n",
       "1919         14                    wood\n",
       "2047         15                    wood\n",
       "2175         16                    wood\n",
       "2303         17                    wood\n",
       "2431         18                    wood\n",
       "2559         19                soft_pvc\n",
       "2687         20              soft_tiles\n",
       "2815         21                concrete\n",
       "2943         22              soft_tiles\n",
       "3071         23              soft_tiles\n",
       "3199         24           fine_concrete\n",
       "3327         25                   tiled\n",
       "3455         26                   tiled\n",
       "3583         27                    wood\n",
       "3711         28                    wood\n",
       "3839         29  hard_tiles_large_space\n",
       "3967         30                concrete\n",
       "4095         31              soft_tiles\n",
       "4223         32                   tiled\n",
       "4351         33              soft_tiles\n",
       "4479         34                    wood\n",
       "4607         35              soft_tiles\n",
       "4735         36                   tiled\n",
       "4863         37                   tiled\n",
       "4991         38              soft_tiles\n",
       "5119         39                soft_pvc\n",
       "5247         40                   tiled\n",
       "5375         41                concrete\n",
       "5503         42                soft_pvc\n",
       "5631         43                    wood\n",
       "5759         44              soft_tiles\n",
       "5887         45                    wood\n",
       "6015         46                    wood\n",
       "6143         47                soft_pvc\n",
       "6271         48                soft_pvc\n",
       "6399         49                  carpet"
      ]
     },
     "execution_count": 43,
     "metadata": {},
     "output_type": "execute_result"
    }
   ],
   "source": [
    "#DataFrame do arquivo\n",
    "df_submission = pd.DataFrame({\n",
    "    \"series_id\": df_final.series_id, \n",
    "    \"surface\": predicao_final_texto\n",
    "})\n",
    "\n",
    "df_submission.head(50)"
   ]
  },
  {
   "cell_type": "code",
   "execution_count": 44,
   "metadata": {},
   "outputs": [],
   "source": [
    "#Grava o arquivo\n",
    "df_submission.to_csv('data/submission.csv', index=False)\n"
   ]
  },
  {
   "cell_type": "markdown",
   "metadata": {},
   "source": [
    "# Obrigado"
   ]
  },
  {
   "cell_type": "code",
   "execution_count": null,
   "metadata": {},
   "outputs": [],
   "source": []
  }
 ],
 "metadata": {
  "kernelspec": {
   "display_name": "Python 3",
   "language": "python",
   "name": "python3"
  },
  "language_info": {
   "codemirror_mode": {
    "name": "ipython",
    "version": 3
   },
   "file_extension": ".py",
   "mimetype": "text/x-python",
   "name": "python",
   "nbconvert_exporter": "python",
   "pygments_lexer": "ipython3",
   "version": "3.7.3"
  }
 },
 "nbformat": 4,
 "nbformat_minor": 2
}
